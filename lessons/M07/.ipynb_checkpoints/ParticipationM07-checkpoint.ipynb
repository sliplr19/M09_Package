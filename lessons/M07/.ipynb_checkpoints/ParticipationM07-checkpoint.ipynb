{
 "cells": [
  {
   "cell_type": "code",
   "execution_count": 1,
   "id": "90fa6769-2898-41b0-80ea-2268d39fbe94",
   "metadata": {},
   "outputs": [],
   "source": [
    "class MyClass:\n",
    "    '''\n",
    "    This is the docstring for MyClass.\n",
    "    '''\n",
    "    \n",
    "    att = 'hello'\n",
    "    \n",
    "    def __init__(self, name):\n",
    "        self.name = name\n",
    "        \n",
    "    def add(self):\n",
    "        print(att + ' ' + self.name)\n",
    "    "
   ]
  },
  {
   "cell_type": "code",
   "execution_count": 4,
   "id": "7ce60682-e649-4db3-abda-6f51e507baaf",
   "metadata": {},
   "outputs": [],
   "source": [
    "dat = MyClass('Minnie')"
   ]
  },
  {
   "cell_type": "code",
   "execution_count": 5,
   "id": "61f65ad4-8a7f-4a63-af22-17e5d29eb667",
   "metadata": {},
   "outputs": [
    {
     "data": {
      "text/plain": [
       "'hello'"
      ]
     },
     "execution_count": 5,
     "metadata": {},
     "output_type": "execute_result"
    }
   ],
   "source": [
    "dat.att"
   ]
  },
  {
   "cell_type": "code",
   "execution_count": 6,
   "id": "1295ec7f-b424-4df6-bc57-96d84728767d",
   "metadata": {},
   "outputs": [
    {
     "data": {
      "text/plain": [
       "'Minnie'"
      ]
     },
     "execution_count": 6,
     "metadata": {},
     "output_type": "execute_result"
    }
   ],
   "source": [
    "dat.name"
   ]
  },
  {
   "cell_type": "code",
   "execution_count": 7,
   "id": "6d81ee83-7cbb-4e81-969e-e78dfeec12c7",
   "metadata": {},
   "outputs": [
    {
     "ename": "NameError",
     "evalue": "name 'att' is not defined",
     "output_type": "error",
     "traceback": [
      "\u001b[1;31m---------------------------------------------------------------------------\u001b[0m",
      "\u001b[1;31mNameError\u001b[0m                                 Traceback (most recent call last)",
      "Cell \u001b[1;32mIn[7], line 1\u001b[0m\n\u001b[1;32m----> 1\u001b[0m \u001b[43mdat\u001b[49m\u001b[38;5;241;43m.\u001b[39;49m\u001b[43madd\u001b[49m\u001b[43m(\u001b[49m\u001b[43m)\u001b[49m\n",
      "Cell \u001b[1;32mIn[1], line 12\u001b[0m, in \u001b[0;36mMyClass.add\u001b[1;34m(self)\u001b[0m\n\u001b[0;32m     11\u001b[0m \u001b[38;5;28;01mdef\u001b[39;00m \u001b[38;5;21madd\u001b[39m(\u001b[38;5;28mself\u001b[39m):\n\u001b[1;32m---> 12\u001b[0m     \u001b[38;5;28mprint\u001b[39m(\u001b[43matt\u001b[49m \u001b[38;5;241m+\u001b[39m \u001b[38;5;124m'\u001b[39m\u001b[38;5;124m \u001b[39m\u001b[38;5;124m'\u001b[39m \u001b[38;5;241m+\u001b[39m \u001b[38;5;28mself\u001b[39m\u001b[38;5;241m.\u001b[39mname)\n",
      "\u001b[1;31mNameError\u001b[0m: name 'att' is not defined"
     ]
    }
   ],
   "source": [
    "dat.add()"
   ]
  },
  {
   "cell_type": "code",
   "execution_count": null,
   "id": "6319f648-744e-4f32-9a26-dc14368c5d6e",
   "metadata": {},
   "outputs": [],
   "source": [
    "class Student:\n",
    "    \n",
    "    def store_grades(self, grades):\n",
    "        self.grades = pd.Series(data=grades, dtype=float)\n",
    "\n",
    "    def __init__(self, first_name, last_name, ID):\n",
    "        self.name = first_name + ' ' + last_name\n",
    "        self.ID = ID\n",
    "        \n",
    "    def add_assign(self, assign, grade):\n",
    "        self.grades['assign'] = grade\n",
    "    \n",
    "      def plot_bar(self):\n",
    "        pd.Series(self.grades).plot.bar(title=\"Grades Bar Chart\")\n",
    "    \n",
    "    "
   ]
  }
 ],
 "metadata": {
  "kernelspec": {
   "display_name": "Python 3 (ipykernel)",
   "language": "python",
   "name": "python3"
  },
  "language_info": {
   "codemirror_mode": {
    "name": "ipython",
    "version": 3
   },
   "file_extension": ".py",
   "mimetype": "text/x-python",
   "name": "python",
   "nbconvert_exporter": "python",
   "pygments_lexer": "ipython3",
   "version": "3.10.9"
  }
 },
 "nbformat": 4,
 "nbformat_minor": 5
}
