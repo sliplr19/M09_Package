{
 "cells": [
  {
   "cell_type": "code",
   "execution_count": 18,
   "id": "90fa6769-2898-41b0-80ea-2268d39fbe94",
   "metadata": {},
   "outputs": [],
   "source": [
    "class MyClass:\n",
    "    '''\n",
    "    This is the docstring for MyClass.\n",
    "    '''\n",
    "    att = 'hello'\n",
    "    \n",
    "    def __init__(self, name):\n",
    "        self.name = name\n",
    "        \n",
    "    def add(self):\n",
    "        phrase = f\"{self.att}\" + \" \" + f\"{self.name}\"\n",
    "        print(phrase)\n",
    "    "
   ]
  },
  {
   "cell_type": "code",
   "execution_count": 19,
   "id": "7ce60682-e649-4db3-abda-6f51e507baaf",
   "metadata": {},
   "outputs": [],
   "source": [
    "dat = MyClass('Minnie')"
   ]
  },
  {
   "cell_type": "code",
   "execution_count": 20,
   "id": "61f65ad4-8a7f-4a63-af22-17e5d29eb667",
   "metadata": {},
   "outputs": [
    {
     "data": {
      "text/plain": [
       "'hello'"
      ]
     },
     "execution_count": 20,
     "metadata": {},
     "output_type": "execute_result"
    }
   ],
   "source": [
    "dat.att"
   ]
  },
  {
   "cell_type": "code",
   "execution_count": 21,
   "id": "1295ec7f-b424-4df6-bc57-96d84728767d",
   "metadata": {},
   "outputs": [
    {
     "data": {
      "text/plain": [
       "'Minnie'"
      ]
     },
     "execution_count": 21,
     "metadata": {},
     "output_type": "execute_result"
    }
   ],
   "source": [
    "dat.name"
   ]
  },
  {
   "cell_type": "code",
   "execution_count": 22,
   "id": "6d81ee83-7cbb-4e81-969e-e78dfeec12c7",
   "metadata": {},
   "outputs": [
    {
     "name": "stdout",
     "output_type": "stream",
     "text": [
      "hello Minnie\n"
     ]
    }
   ],
   "source": [
    "dat.add()"
   ]
  },
  {
   "cell_type": "code",
   "execution_count": 25,
   "id": "6319f648-744e-4f32-9a26-dc14368c5d6e",
   "metadata": {},
   "outputs": [],
   "source": [
    "class Student:\n",
    "    \n",
    "    def __init__(self, first_name, last_name, ID):\n",
    "        self.name = first_name + ' ' + last_name\n",
    "        self.ID = ID\n",
    "        self.grades = pd.Series(dtype=float)\n",
    "\n",
    "        \n",
    "    def add_assign(self, assign, grade):\n",
    "        self.grades[assign] = grade\n",
    "    \n",
    "    def plot_bar(self):\n",
    "        pd.Series(self.grades).plot.bar(title=\"Grades Bar Chart\")\n",
    "    \n",
    "    "
   ]
  },
  {
   "cell_type": "code",
   "execution_count": null,
   "id": "baf69f4e-f089-48bf-bcfc-1b082ee31f29",
   "metadata": {},
   "outputs": [],
   "source": []
  }
 ],
 "metadata": {
  "kernelspec": {
   "display_name": "Python 3 (ipykernel)",
   "language": "python",
   "name": "python3"
  },
  "language_info": {
   "codemirror_mode": {
    "name": "ipython",
    "version": 3
   },
   "file_extension": ".py",
   "mimetype": "text/x-python",
   "name": "python",
   "nbconvert_exporter": "python",
   "pygments_lexer": "ipython3",
   "version": "3.10.9"
  }
 },
 "nbformat": 4,
 "nbformat_minor": 5
}
