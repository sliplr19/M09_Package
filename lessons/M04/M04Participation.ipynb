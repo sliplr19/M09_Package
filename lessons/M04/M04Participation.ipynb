{
 "cells": [
  {
   "cell_type": "markdown",
   "id": "f9f8a3c2-362f-469c-a2e4-036d45b3d0f0",
   "metadata": {},
   "source": [
    "Exercise 4.1"
   ]
  },
  {
   "cell_type": "code",
   "execution_count": 9,
   "id": "38a082b1-2e13-4412-b4fc-9d7114486420",
   "metadata": {},
   "outputs": [],
   "source": [
    "def string_length(s, integer):\n",
    "    '''\n",
    "    This is the \"docstring\" of  my_function. \n",
    "    PURPOSE: Given a string and an integer, returns True if the string matches \n",
    "    length of the integer and false otherwise\n",
    "    \n",
    "    INPUTS\n",
    "    s   string\n",
    "    integer  int\n",
    "    \n",
    "    OUTPUT\n",
    "    boolean\n",
    "    '''\n",
    "    \n",
    "    return True if len(s) == integer else False\n",
    "    \n"
   ]
  },
  {
   "cell_type": "code",
   "execution_count": 10,
   "id": "c9a22b2b-dfb9-4680-aeb0-2097ec5dfd51",
   "metadata": {},
   "outputs": [
    {
     "data": {
      "text/plain": [
       "True"
      ]
     },
     "execution_count": 10,
     "metadata": {},
     "output_type": "execute_result"
    }
   ],
   "source": [
    "string_length(\"is this text the right length?\", 30)"
   ]
  },
  {
   "cell_type": "code",
   "execution_count": 11,
   "id": "1bd0b6f6-37e4-4a6e-adb8-a5e1467c4db2",
   "metadata": {},
   "outputs": [
    {
     "data": {
      "text/plain": [
       "False"
      ]
     },
     "execution_count": 11,
     "metadata": {},
     "output_type": "execute_result"
    }
   ],
   "source": [
    "string_length(\"Minnie and Licorice\", 30)"
   ]
  },
  {
   "cell_type": "code",
   "execution_count": 12,
   "id": "e243e886-b5ea-49b2-b4d0-f10422829709",
   "metadata": {},
   "outputs": [
    {
     "data": {
      "text/plain": [
       "True"
      ]
     },
     "execution_count": 12,
     "metadata": {},
     "output_type": "execute_result"
    }
   ],
   "source": [
    "string_length(\"Lindley\", 7)"
   ]
  },
  {
   "cell_type": "code",
   "execution_count": 13,
   "id": "e53e9aac-3921-48cd-8af8-fa81807f896a",
   "metadata": {},
   "outputs": [
    {
     "data": {
      "text/plain": [
       "False"
      ]
     },
     "execution_count": 13,
     "metadata": {},
     "output_type": "execute_result"
    }
   ],
   "source": [
    "string_length(\"Lindley\", 18)"
   ]
  },
  {
   "cell_type": "markdown",
   "id": "d08f2c8c-5ec7-4c52-88b2-b462ac2b6570",
   "metadata": {},
   "source": [
    "Exercise 4.2"
   ]
  },
  {
   "cell_type": "code",
   "execution_count": 17,
   "id": "6c2d0fc3-0259-471c-99fe-f667e98b584c",
   "metadata": {},
   "outputs": [],
   "source": [
    "def square_num(*args):\n",
    "    for num in args:\n",
    "        print(num**2) "
   ]
  },
  {
   "cell_type": "code",
   "execution_count": 18,
   "id": "0799001e-0053-44f6-9e45-773523310eed",
   "metadata": {},
   "outputs": [
    {
     "name": "stdout",
     "output_type": "stream",
     "text": [
      "1\n",
      "4\n",
      "9\n"
     ]
    }
   ],
   "source": [
    "square_num(1,2,3)"
   ]
  },
  {
   "cell_type": "markdown",
   "id": "481e7503-2795-4cf0-b319-8b4b508c1e17",
   "metadata": {},
   "source": [
    "Exercise 4.3"
   ]
  },
  {
   "cell_type": "code",
   "execution_count": 27,
   "id": "1ff72b1a-1ae7-4371-946c-f7c11b80ba71",
   "metadata": {},
   "outputs": [],
   "source": [
    "def word_shortener(word):\n",
    "    mid_length = str(len(word[1:-1]))\n",
    "    first_letter = word[0].upper()\n",
    "    last_letter = word[-1].upper()\n",
    "    return first_letter + mid_length + last_letter"
   ]
  },
  {
   "cell_type": "code",
   "execution_count": 28,
   "id": "ee2e1beb-5c32-4f31-8265-4b6dfa4d4f1a",
   "metadata": {},
   "outputs": [
    {
     "data": {
      "text/plain": [
       "'H3E'"
      ]
     },
     "execution_count": 28,
     "metadata": {},
     "output_type": "execute_result"
    }
   ],
   "source": [
    "word_shortener(\"house\")"
   ]
  },
  {
   "cell_type": "code",
   "execution_count": 29,
   "id": "ee5f12a5-603c-4d5d-a75e-ba62c1da59a7",
   "metadata": {},
   "outputs": [
    {
     "data": {
      "text/plain": [
       "'I18N'"
      ]
     },
     "execution_count": 29,
     "metadata": {},
     "output_type": "execute_result"
    }
   ],
   "source": [
    "word_shortener(\"internationalization\")"
   ]
  },
  {
   "cell_type": "code",
   "execution_count": 30,
   "id": "74ed21f5-f4fb-471e-b429-bc8965dc3d27",
   "metadata": {},
   "outputs": [
    {
     "data": {
      "text/plain": [
       "'U12M'"
      ]
     },
     "execution_count": 30,
     "metadata": {},
     "output_type": "execute_result"
    }
   ],
   "source": [
    "word_shortener(\"utilitarianism\")"
   ]
  },
  {
   "cell_type": "markdown",
   "id": "17c302ba-5161-4677-b7de-bd39916c027a",
   "metadata": {},
   "source": [
    "Exercise 4.4"
   ]
  },
  {
   "cell_type": "code",
   "execution_count": 31,
   "id": "eafa61b9-82b0-49d6-813a-e8e5c51fd36c",
   "metadata": {},
   "outputs": [],
   "source": [
    "def num_5(num):\n",
    "    value = num - 5\n",
    "    if value < 0:\n",
    "        return 0\n",
    "    else:\n",
    "        return 1"
   ]
  },
  {
   "cell_type": "code",
   "execution_count": 32,
   "id": "792de793-6fae-41d8-8ab0-0cf3bb3fe2a7",
   "metadata": {},
   "outputs": [
    {
     "data": {
      "text/plain": [
       "1"
      ]
     },
     "execution_count": 32,
     "metadata": {},
     "output_type": "execute_result"
    }
   ],
   "source": [
    "num_5(5)"
   ]
  },
  {
   "cell_type": "code",
   "execution_count": 33,
   "id": "e451f6c1-7e0d-4087-bcce-b2b23d88c11a",
   "metadata": {},
   "outputs": [
    {
     "data": {
      "text/plain": [
       "1"
      ]
     },
     "execution_count": 33,
     "metadata": {},
     "output_type": "execute_result"
    }
   ],
   "source": [
    "num_5(6)"
   ]
  },
  {
   "cell_type": "code",
   "execution_count": 35,
   "id": "dc12a91e-a9fa-41de-9e2c-3a7f69d7b1aa",
   "metadata": {},
   "outputs": [
    {
     "data": {
      "text/plain": [
       "0"
      ]
     },
     "execution_count": 35,
     "metadata": {},
     "output_type": "execute_result"
    }
   ],
   "source": [
    "num_5(4)"
   ]
  },
  {
   "cell_type": "markdown",
   "id": "87fbf81d-aa5d-4b6c-8733-f1b659bcedbf",
   "metadata": {},
   "source": [
    "Exercise 4.6"
   ]
  },
  {
   "cell_type": "code",
   "execution_count": 36,
   "id": "025f1e3a-f439-40fe-abdd-5afe5048ebc7",
   "metadata": {},
   "outputs": [],
   "source": [
    "lambda_function = lambda x: 10 <= x <= 20"
   ]
  },
  {
   "cell_type": "code",
   "execution_count": 37,
   "id": "e175d9d4-9de3-4594-bdb4-ef5b8abb7e03",
   "metadata": {},
   "outputs": [
    {
     "data": {
      "text/plain": [
       "True"
      ]
     },
     "execution_count": 37,
     "metadata": {},
     "output_type": "execute_result"
    }
   ],
   "source": [
    "lambda_function(15)"
   ]
  },
  {
   "cell_type": "code",
   "execution_count": 38,
   "id": "7fb3e253-cc02-4463-b4c4-5a684cf260eb",
   "metadata": {},
   "outputs": [
    {
     "data": {
      "text/plain": [
       "False"
      ]
     },
     "execution_count": 38,
     "metadata": {},
     "output_type": "execute_result"
    }
   ],
   "source": [
    "lambda_function(5)"
   ]
  },
  {
   "cell_type": "code",
   "execution_count": 39,
   "id": "dd9361c1-eae2-4d2c-a700-80f4e3e348c2",
   "metadata": {},
   "outputs": [
    {
     "data": {
      "text/plain": [
       "False"
      ]
     },
     "execution_count": 39,
     "metadata": {},
     "output_type": "execute_result"
    }
   ],
   "source": [
    "lambda_function(21)"
   ]
  },
  {
   "cell_type": "markdown",
   "id": "a5e43c82-7222-424c-9c01-9b769ddd6051",
   "metadata": {},
   "source": [
    "Exercise 4.9"
   ]
  },
  {
   "cell_type": "code",
   "execution_count": 64,
   "id": "7a6547dd-c6b6-4998-bc52-4eb82b15e973",
   "metadata": {},
   "outputs": [],
   "source": [
    "c2f = lambda x: (1.8*x) + 32 \n",
    "f2c = lambda x: (x-32)/1.8\n",
    "targets ={\n",
    "    'f': c2f,\n",
    "    'c': f2c\n",
    "}\n",
    "t2t = lambda tval, target: round(targets[target](tval))"
   ]
  },
  {
   "cell_type": "code",
   "execution_count": 66,
   "id": "069b1308-8ce8-497c-bbc8-7f487f32776e",
   "metadata": {},
   "outputs": [
    {
     "data": {
      "text/plain": [
       "113"
      ]
     },
     "execution_count": 66,
     "metadata": {},
     "output_type": "execute_result"
    }
   ],
   "source": [
    "t2t(45, \"f\")"
   ]
  },
  {
   "cell_type": "markdown",
   "id": "ddc71443-d69f-4575-b319-4cf4b2259148",
   "metadata": {},
   "source": [
    "\n",
    "Exercise 4.5"
   ]
  },
  {
   "cell_type": "code",
   "execution_count": 77,
   "id": "ce09ce06-d96d-4112-b11c-3cadee0668b5",
   "metadata": {},
   "outputs": [],
   "source": [
    "def variable_define(y):\n",
    "    x = y\n",
    "    print(x)"
   ]
  },
  {
   "cell_type": "code",
   "execution_count": 78,
   "id": "6037b825-31de-4f10-af69-7f5d156b2d06",
   "metadata": {},
   "outputs": [
    {
     "name": "stdout",
     "output_type": "stream",
     "text": [
      "20\n"
     ]
    }
   ],
   "source": [
    "variable_define(20)"
   ]
  },
  {
   "cell_type": "code",
   "execution_count": 79,
   "id": "5066c8ad-27cb-4671-b5cd-3eeb7904f739",
   "metadata": {},
   "outputs": [
    {
     "ename": "NameError",
     "evalue": "name 'x' is not defined",
     "output_type": "error",
     "traceback": [
      "\u001b[1;31m---------------------------------------------------------------------------\u001b[0m",
      "\u001b[1;31mNameError\u001b[0m                                 Traceback (most recent call last)",
      "Cell \u001b[1;32mIn[79], line 1\u001b[0m\n\u001b[1;32m----> 1\u001b[0m \u001b[43mx\u001b[49m\n",
      "\u001b[1;31mNameError\u001b[0m: name 'x' is not defined"
     ]
    }
   ],
   "source": [
    "x"
   ]
  },
  {
   "cell_type": "markdown",
   "id": "8e2c9df9-c607-4448-b213-103124c61ffc",
   "metadata": {},
   "source": [
    "Exercise 4.10"
   ]
  },
  {
   "cell_type": "code",
   "execution_count": 82,
   "id": "ffd41704-ae64-4a69-ab4b-0df455f85e65",
   "metadata": {},
   "outputs": [
    {
     "name": "stdout",
     "output_type": "stream",
     "text": [
      "1\n",
      "2\n",
      "3\n",
      "5\n",
      "8\n",
      "13\n",
      "21\n"
     ]
    }
   ],
   "source": [
    "Fib2 = 1\n",
    "print(Fib2)\n",
    "Fib3 = 2\n",
    "print(Fib3)\n",
    "Fib4 = 3\n",
    "print(Fib4)\n",
    "Fib5 = 5\n",
    "print(Fib5)\n",
    "Fib6 = Fib5 + Fib4\n",
    "print(Fib6)\n",
    "Fib7 = Fib6 + Fib5\n",
    "print(Fib7)\n",
    "Fib8 = Fib7 + Fib6\n",
    "print(Fib8)"
   ]
  },
  {
   "cell_type": "code",
   "execution_count": 83,
   "id": "332c4ba0-62c5-4b79-a95a-6c6957866d35",
   "metadata": {},
   "outputs": [],
   "source": [
    "def fib(n):\n",
    "    if n==0:\n",
    "        fibn = 0\n",
    "    elif n==1:\n",
    "        fibn = 1\n",
    "    else:\n",
    "        fibn = fib(n-1) + fib(n-2)\n",
    "    return(fibn)"
   ]
  },
  {
   "cell_type": "code",
   "execution_count": 91,
   "id": "0af9fb83-5c8e-4b2b-8827-a6fc36a9fd06",
   "metadata": {},
   "outputs": [
    {
     "data": {
      "text/plain": [
       "21"
      ]
     },
     "execution_count": 91,
     "metadata": {},
     "output_type": "execute_result"
    }
   ],
   "source": [
    "fib(8)"
   ]
  },
  {
   "cell_type": "markdown",
   "id": "748bb20e-16c5-46fe-b7a1-e280365eaec9",
   "metadata": {},
   "source": [
    "Exercise 4.11"
   ]
  },
  {
   "cell_type": "code",
   "execution_count": 94,
   "id": "d3143d60-15c1-4d8a-9b3e-311b0f3cf9ac",
   "metadata": {},
   "outputs": [],
   "source": [
    "    def mad_lib():  \n",
    "        adjective1 = input(\"Enter an adjective: \")                           \n",
    "        noun1 = input(\"Enter a noun: \")\n",
    "        verbpast1 = input(\"Enter a past tense verb: \")\n",
    "        adverb1 = input(\"Enter an adverb: \")\n",
    "        adjective2 = input(\"Enter an adjective: \")                           \n",
    "        noun2 = input(\"Enter a noun: \")\n",
    "        noun3 = input(\"Enter a noun: \")\n",
    "        feeling1 = input(\"Enter a feeling: \")\n",
    "        adjective3 = input(\"Enter an adjective: \") \n",
    "        noun4 = input(\"Enter a noun: \")\n",
    "        verb1 = input(\"Enter a verb: \")\n",
    "        adverb2 = input(\"Enter an adverb: \")\n",
    "        noun5 = input(\"Enter a noun: \")\n",
    "        verbpast2 = input(\"Enter a past tense verb: \")\n",
    "        food = input(\"Enter a food: \")\n",
    "        print(f\"Today I went to the zoo. I saw a \\\n",
    "        {adjective1} {noun1}, jumping up and down \\\n",
    "        on its tree. He {verbpast1} {adverb1} \\\n",
    "        through the large tunnel that led to its \\\n",
    "        {adjective2} {noun2}. I got some {noun5} \\\n",
    "        and and passed them through the cage to a \\\n",
    "        gigantic gray {noun3} towering above my \\\n",
    "        head. Feeding that animal made me \\\n",
    "        {feeling1}. I went to get a {adjective3}\\\n",
    "        scoop of {food}. It filled my {noun4}. \\\n",
    "        Afterwards I had \\\n",
    "        to {verb1} {adverb2} to catch out bus. When I \\\n",
    "        got home I {verbpast2}.\")\n",
    "   "
   ]
  },
  {
   "cell_type": "code",
   "execution_count": null,
   "id": "34414d22-5eaf-453d-bf9e-5312922e309c",
   "metadata": {},
   "outputs": [],
   "source": []
  },
  {
   "cell_type": "code",
   "execution_count": null,
   "id": "9cb86bd8-644f-4cf3-8248-821f8bff103f",
   "metadata": {},
   "outputs": [],
   "source": []
  },
  {
   "cell_type": "code",
   "execution_count": null,
   "id": "08ed35b4-d6e8-4765-9640-7bb0aa79d95a",
   "metadata": {},
   "outputs": [],
   "source": []
  },
  {
   "cell_type": "code",
   "execution_count": null,
   "id": "a6726ebb-8aa9-4914-a0bd-726ffdd1a039",
   "metadata": {},
   "outputs": [],
   "source": []
  },
  {
   "cell_type": "code",
   "execution_count": null,
   "id": "ba5ef18e-bf18-4b2d-8883-5a54ce887312",
   "metadata": {},
   "outputs": [],
   "source": []
  },
  {
   "cell_type": "code",
   "execution_count": 95,
   "id": "58e08af5-7a21-4566-80ea-a88410e6aaf1",
   "metadata": {},
   "outputs": [
    {
     "name": "stdin",
     "output_type": "stream",
     "text": [
      "Enter an adjective:  a\n",
      "Enter a noun:  a\n",
      "Enter a past tense verb:  a\n",
      "Enter an adverb:  a\n",
      "Enter an adjective:  a\n",
      "Enter a noun:  a\n",
      "Enter a noun:  a\n",
      "Enter a feeling:  \n",
      "Enter an adjective:  \n",
      "Enter a noun:  \n",
      "Enter a verb:  \n",
      "Enter an adverb:  a\n",
      "Enter a noun:  \n",
      "Enter a past tense verb:  \n",
      "Enter a food:  a\n"
     ]
    },
    {
     "name": "stdout",
     "output_type": "stream",
     "text": [
      "Today I went to the zoo. I saw a     a a, jumping up and down     on its tree. He a a     through the large tunnel that led to its     a a. I got some      and and passed them through the cage to a     gigantic gray a towering above my     head. Feeding that animal made me     . I went to get a     scoop of a. It filled my .     Afterwards I had     to  a to catch out bus. When I     got home I .\n"
     ]
    }
   ],
   "source": [
    "mad_lib()"
   ]
  },
  {
   "cell_type": "code",
   "execution_count": null,
   "id": "dddf6c1f-1f79-4e55-8ec1-28889738e26d",
   "metadata": {},
   "outputs": [],
   "source": []
  }
 ],
 "metadata": {
  "kernelspec": {
   "display_name": "Python 3 (ipykernel)",
   "language": "python",
   "name": "python3"
  },
  "language_info": {
   "codemirror_mode": {
    "name": "ipython",
    "version": 3
   },
   "file_extension": ".py",
   "mimetype": "text/x-python",
   "name": "python",
   "nbconvert_exporter": "python",
   "pygments_lexer": "ipython3",
   "version": "3.10.9"
  }
 },
 "nbformat": 4,
 "nbformat_minor": 5
}
