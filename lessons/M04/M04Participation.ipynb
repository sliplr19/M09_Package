{
 "cells": [
  {
   "cell_type": "markdown",
   "id": "f9f8a3c2-362f-469c-a2e4-036d45b3d0f0",
   "metadata": {},
   "source": [
    "Exercise 4.1"
   ]
  },
  {
   "cell_type": "code",
   "execution_count": 9,
   "id": "38a082b1-2e13-4412-b4fc-9d7114486420",
   "metadata": {},
   "outputs": [],
   "source": [
    "def string_length(s, integer):\n",
    "    '''\n",
    "    This is the \"docstring\" of  my_function. \n",
    "    PURPOSE: Given a string and an integer, returns True if the string matches \n",
    "    length of the integer and false otherwise\n",
    "    \n",
    "    INPUTS\n",
    "    s   string\n",
    "    integer  int\n",
    "    \n",
    "    OUTPUT\n",
    "    boolean\n",
    "    '''\n",
    "    \n",
    "    return True if len(s) == integer else False\n",
    "    \n"
   ]
  },
  {
   "cell_type": "code",
   "execution_count": 10,
   "id": "c9a22b2b-dfb9-4680-aeb0-2097ec5dfd51",
   "metadata": {},
   "outputs": [
    {
     "data": {
      "text/plain": [
       "True"
      ]
     },
     "execution_count": 10,
     "metadata": {},
     "output_type": "execute_result"
    }
   ],
   "source": [
    "string_length(\"is this text the right length?\", 30)"
   ]
  },
  {
   "cell_type": "code",
   "execution_count": 11,
   "id": "1bd0b6f6-37e4-4a6e-adb8-a5e1467c4db2",
   "metadata": {},
   "outputs": [
    {
     "data": {
      "text/plain": [
       "False"
      ]
     },
     "execution_count": 11,
     "metadata": {},
     "output_type": "execute_result"
    }
   ],
   "source": [
    "string_length(\"Minnie and Licorice\", 30)"
   ]
  },
  {
   "cell_type": "code",
   "execution_count": 12,
   "id": "e243e886-b5ea-49b2-b4d0-f10422829709",
   "metadata": {},
   "outputs": [
    {
     "data": {
      "text/plain": [
       "True"
      ]
     },
     "execution_count": 12,
     "metadata": {},
     "output_type": "execute_result"
    }
   ],
   "source": [
    "string_length(\"Lindley\", 7)"
   ]
  },
  {
   "cell_type": "code",
   "execution_count": 13,
   "id": "e53e9aac-3921-48cd-8af8-fa81807f896a",
   "metadata": {},
   "outputs": [
    {
     "data": {
      "text/plain": [
       "False"
      ]
     },
     "execution_count": 13,
     "metadata": {},
     "output_type": "execute_result"
    }
   ],
   "source": [
    "string_length(\"Lindley\", 18)"
   ]
  },
  {
   "cell_type": "markdown",
   "id": "d08f2c8c-5ec7-4c52-88b2-b462ac2b6570",
   "metadata": {},
   "source": [
    "Exercise 4.2"
   ]
  },
  {
   "cell_type": "code",
   "execution_count": 17,
   "id": "6c2d0fc3-0259-471c-99fe-f667e98b584c",
   "metadata": {},
   "outputs": [],
   "source": [
    "def square_num(*args):\n",
    "    for num in args:\n",
    "        print(num**2) "
   ]
  },
  {
   "cell_type": "code",
   "execution_count": 18,
   "id": "0799001e-0053-44f6-9e45-773523310eed",
   "metadata": {},
   "outputs": [
    {
     "name": "stdout",
     "output_type": "stream",
     "text": [
      "1\n",
      "4\n",
      "9\n"
     ]
    }
   ],
   "source": [
    "square_num(1,2,3)"
   ]
  },
  {
   "cell_type": "markdown",
   "id": "481e7503-2795-4cf0-b319-8b4b508c1e17",
   "metadata": {},
   "source": [
    "Exercise 4.3"
   ]
  },
  {
   "cell_type": "code",
   "execution_count": 27,
   "id": "1ff72b1a-1ae7-4371-946c-f7c11b80ba71",
   "metadata": {},
   "outputs": [],
   "source": [
    "def word_shortener(word):\n",
    "    mid_length = str(len(word[1:-1]))\n",
    "    first_letter = word[0].upper()\n",
    "    last_letter = word[-1].upper()\n",
    "    return first_letter + mid_length + last_letter"
   ]
  },
  {
   "cell_type": "code",
   "execution_count": 28,
   "id": "ee2e1beb-5c32-4f31-8265-4b6dfa4d4f1a",
   "metadata": {},
   "outputs": [
    {
     "data": {
      "text/plain": [
       "'H3E'"
      ]
     },
     "execution_count": 28,
     "metadata": {},
     "output_type": "execute_result"
    }
   ],
   "source": [
    "word_shortener(\"house\")"
   ]
  },
  {
   "cell_type": "code",
   "execution_count": 29,
   "id": "ee5f12a5-603c-4d5d-a75e-ba62c1da59a7",
   "metadata": {},
   "outputs": [
    {
     "data": {
      "text/plain": [
       "'I18N'"
      ]
     },
     "execution_count": 29,
     "metadata": {},
     "output_type": "execute_result"
    }
   ],
   "source": [
    "word_shortener(\"internationalization\")"
   ]
  },
  {
   "cell_type": "code",
   "execution_count": 30,
   "id": "74ed21f5-f4fb-471e-b429-bc8965dc3d27",
   "metadata": {},
   "outputs": [
    {
     "data": {
      "text/plain": [
       "'U12M'"
      ]
     },
     "execution_count": 30,
     "metadata": {},
     "output_type": "execute_result"
    }
   ],
   "source": [
    "word_shortener(\"utilitarianism\")"
   ]
  },
  {
   "cell_type": "markdown",
   "id": "17c302ba-5161-4677-b7de-bd39916c027a",
   "metadata": {},
   "source": [
    "Exercise 4.4"
   ]
  },
  {
   "cell_type": "code",
   "execution_count": 31,
   "id": "eafa61b9-82b0-49d6-813a-e8e5c51fd36c",
   "metadata": {},
   "outputs": [],
   "source": [
    "def num_5(num):\n",
    "    value = num - 5\n",
    "    if value < 0:\n",
    "        return 0\n",
    "    else:\n",
    "        return 1"
   ]
  },
  {
   "cell_type": "code",
   "execution_count": 32,
   "id": "792de793-6fae-41d8-8ab0-0cf3bb3fe2a7",
   "metadata": {},
   "outputs": [
    {
     "data": {
      "text/plain": [
       "1"
      ]
     },
     "execution_count": 32,
     "metadata": {},
     "output_type": "execute_result"
    }
   ],
   "source": [
    "num_5(5)"
   ]
  },
  {
   "cell_type": "code",
   "execution_count": 33,
   "id": "e451f6c1-7e0d-4087-bcce-b2b23d88c11a",
   "metadata": {},
   "outputs": [
    {
     "data": {
      "text/plain": [
       "1"
      ]
     },
     "execution_count": 33,
     "metadata": {},
     "output_type": "execute_result"
    }
   ],
   "source": [
    "num_5(6)"
   ]
  },
  {
   "cell_type": "code",
   "execution_count": 35,
   "id": "dc12a91e-a9fa-41de-9e2c-3a7f69d7b1aa",
   "metadata": {},
   "outputs": [
    {
     "data": {
      "text/plain": [
       "0"
      ]
     },
     "execution_count": 35,
     "metadata": {},
     "output_type": "execute_result"
    }
   ],
   "source": [
    "num_5(4)"
   ]
  },
  {
   "cell_type": "markdown",
   "id": "87fbf81d-aa5d-4b6c-8733-f1b659bcedbf",
   "metadata": {},
   "source": [
    "Exercise 4.6"
   ]
  },
  {
   "cell_type": "code",
   "execution_count": 36,
   "id": "025f1e3a-f439-40fe-abdd-5afe5048ebc7",
   "metadata": {},
   "outputs": [],
   "source": [
    "lambda_function = lambda x: 10 <= x <= 20"
   ]
  },
  {
   "cell_type": "code",
   "execution_count": 37,
   "id": "e175d9d4-9de3-4594-bdb4-ef5b8abb7e03",
   "metadata": {},
   "outputs": [
    {
     "data": {
      "text/plain": [
       "True"
      ]
     },
     "execution_count": 37,
     "metadata": {},
     "output_type": "execute_result"
    }
   ],
   "source": [
    "lambda_function(15)"
   ]
  },
  {
   "cell_type": "code",
   "execution_count": 38,
   "id": "7fb3e253-cc02-4463-b4c4-5a684cf260eb",
   "metadata": {},
   "outputs": [
    {
     "data": {
      "text/plain": [
       "False"
      ]
     },
     "execution_count": 38,
     "metadata": {},
     "output_type": "execute_result"
    }
   ],
   "source": [
    "lambda_function(5)"
   ]
  },
  {
   "cell_type": "code",
   "execution_count": 39,
   "id": "dd9361c1-eae2-4d2c-a700-80f4e3e348c2",
   "metadata": {},
   "outputs": [
    {
     "data": {
      "text/plain": [
       "False"
      ]
     },
     "execution_count": 39,
     "metadata": {},
     "output_type": "execute_result"
    }
   ],
   "source": [
    "lambda_function(21)"
   ]
  },
  {
   "cell_type": "markdown",
   "id": "a5e43c82-7222-424c-9c01-9b769ddd6051",
   "metadata": {},
   "source": [
    "Exercise 4.9"
   ]
  },
  {
   "cell_type": "code",
   "execution_count": 64,
   "id": "7a6547dd-c6b6-4998-bc52-4eb82b15e973",
   "metadata": {},
   "outputs": [],
   "source": [
    "c2f = lambda x: (1.8*x) + 32 \n",
    "f2c = lambda x: (x-32)/1.8\n",
    "targets ={\n",
    "    'f': c2f,\n",
    "    'c': f2c\n",
    "}\n",
    "t2t = lambda tval, target: round(targets[target](tval))"
   ]
  },
  {
   "cell_type": "code",
   "execution_count": 66,
   "id": "069b1308-8ce8-497c-bbc8-7f487f32776e",
   "metadata": {},
   "outputs": [
    {
     "data": {
      "text/plain": [
       "113"
      ]
     },
     "execution_count": 66,
     "metadata": {},
     "output_type": "execute_result"
    }
   ],
   "source": [
    "t2t(45, \"f\")"
   ]
  },
  {
   "cell_type": "code",
   "execution_count": null,
   "id": "b051c6d5-b367-4b3e-b7e4-140d7cbb6702",
   "metadata": {},
   "outputs": [],
   "source": []
  }
 ],
 "metadata": {
  "kernelspec": {
   "display_name": "Python 3 (ipykernel)",
   "language": "python",
   "name": "python3"
  },
  "language_info": {
   "codemirror_mode": {
    "name": "ipython",
    "version": 3
   },
   "file_extension": ".py",
   "mimetype": "text/x-python",
   "name": "python",
   "nbconvert_exporter": "python",
   "pygments_lexer": "ipython3",
   "version": "3.10.9"
  }
 },
 "nbformat": 4,
 "nbformat_minor": 5
}
