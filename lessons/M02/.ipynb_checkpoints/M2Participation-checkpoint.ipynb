{
 "cells": [
  {
   "cell_type": "markdown",
   "id": "c066451d-fa1c-42db-a9cf-3fdbe7f24579",
   "metadata": {},
   "source": [
    "Exercise 2.1"
   ]
  },
  {
   "cell_type": "code",
   "execution_count": 7,
   "id": "2fb39979-73d3-49b2-856b-0ac9d206354e",
   "metadata": {},
   "outputs": [
    {
     "data": {
      "text/plain": [
       "7"
      ]
     },
     "execution_count": 7,
     "metadata": {},
     "output_type": "execute_result"
    }
   ],
   "source": [
    "Lindley = \"Lindley\"\n",
    "len(Lindley)\n"
   ]
  },
  {
   "cell_type": "code",
   "execution_count": 8,
   "id": "f18efbdd-8cd6-4b84-988b-061d17777c9b",
   "metadata": {},
   "outputs": [
    {
     "data": {
      "text/plain": [
       "'Lin'"
      ]
     },
     "execution_count": 8,
     "metadata": {},
     "output_type": "execute_result"
    }
   ],
   "source": [
    "Lindley[:3]\n"
   ]
  },
  {
   "cell_type": "code",
   "execution_count": 9,
   "id": "0261da4c-ec5f-48ae-9fda-cbb5811fa43e",
   "metadata": {},
   "outputs": [
    {
     "data": {
      "text/plain": [
       "'ley'"
      ]
     },
     "execution_count": 9,
     "metadata": {},
     "output_type": "execute_result"
    }
   ],
   "source": [
    "Lindley[-3:]"
   ]
  },
  {
   "cell_type": "markdown",
   "id": "b4a2edc3-4014-477f-9bbc-88f0e50955fc",
   "metadata": {},
   "source": [
    "Exercise 2.2"
   ]
  },
  {
   "cell_type": "code",
   "execution_count": 13,
   "id": "98a944c1-63d5-4019-8761-9cbec55454f4",
   "metadata": {},
   "outputs": [],
   "source": [
    "mylist = ['a', 'b', 'c']"
   ]
  },
  {
   "cell_type": "code",
   "execution_count": 15,
   "id": "4ea23583-dbf3-4cce-a9a1-75a3593bbd48",
   "metadata": {},
   "outputs": [
    {
     "data": {
      "text/plain": [
       "'b'"
      ]
     },
     "execution_count": 15,
     "metadata": {},
     "output_type": "execute_result"
    }
   ],
   "source": [
    "print(mylist[1])"
   ]
  },
  {
   "cell_type": "markdown",
   "id": "eb671b86-2398-4ae5-9fed-4b9c5f764c31",
   "metadata": {},
   "source": [
    "Exercise 2.3"
   ]
  },
  {
   "cell_type": "code",
   "execution_count": 19,
   "id": "61dcfa73-8c28-46f6-b978-df801be7990b",
   "metadata": {},
   "outputs": [
    {
     "ename": "AttributeError",
     "evalue": "'tuple' object has no attribute 'append'",
     "output_type": "error",
     "traceback": [
      "\u001b[1;31m---------------------------------------------------------------------------\u001b[0m",
      "\u001b[1;31mAttributeError\u001b[0m                            Traceback (most recent call last)",
      "Cell \u001b[1;32mIn[19], line 2\u001b[0m\n\u001b[0;32m      1\u001b[0m mytuple \u001b[38;5;241m=\u001b[39m (\u001b[38;5;124m'\u001b[39m\u001b[38;5;124m1\u001b[39m\u001b[38;5;124m'\u001b[39m, \u001b[38;5;124m'\u001b[39m\u001b[38;5;124m2\u001b[39m\u001b[38;5;124m'\u001b[39m, \u001b[38;5;124m'\u001b[39m\u001b[38;5;124m3\u001b[39m\u001b[38;5;124m'\u001b[39m)\n\u001b[1;32m----> 2\u001b[0m \u001b[43mmytuple\u001b[49m\u001b[38;5;241;43m.\u001b[39;49m\u001b[43mappend\u001b[49m(\u001b[38;5;124m'\u001b[39m\u001b[38;5;124m4\u001b[39m\u001b[38;5;124m'\u001b[39m)\n",
      "\u001b[1;31mAttributeError\u001b[0m: 'tuple' object has no attribute 'append'"
     ]
    }
   ],
   "source": [
    "mytuple = ('1', '2', '3')\n",
    "mytuple.append('4')"
   ]
  },
  {
   "cell_type": "markdown",
   "id": "31dcb696-a28f-4646-8864-2ed888955f7e",
   "metadata": {},
   "source": [
    "Exercise 2.4"
   ]
  },
  {
   "cell_type": "code",
   "execution_count": 20,
   "id": "cddf59fc-0ee6-4962-8d4a-2da53adf32cb",
   "metadata": {},
   "outputs": [],
   "source": [
    "val = 'ERROR'\n",
    "levels = {'WARN', 'ERROR', 'CRTICAL'}"
   ]
  },
  {
   "cell_type": "code",
   "execution_count": 21,
   "id": "01b70d8b-99c5-481e-bbbf-59a7684d7b58",
   "metadata": {},
   "outputs": [
    {
     "data": {
      "text/plain": [
       "True"
      ]
     },
     "execution_count": 21,
     "metadata": {},
     "output_type": "execute_result"
    }
   ],
   "source": [
    "val in levels"
   ]
  },
  {
   "cell_type": "markdown",
   "id": "b887c2ef-d4ae-43ee-b3e1-dd43a0dc615e",
   "metadata": {},
   "source": [
    "Exercise 2.5"
   ]
  },
  {
   "cell_type": "code",
   "execution_count": 22,
   "id": "0f15618f-67f7-4d98-970a-1d2dec0c4eec",
   "metadata": {},
   "outputs": [],
   "source": [
    "dict1 = {\n",
    "    'a': 1,\n",
    "    'b': 2,\n",
    "    'c': 3\n",
    "}"
   ]
  },
  {
   "cell_type": "code",
   "execution_count": 23,
   "id": "f822347b-9b82-4fb4-aaf7-af44600d58a9",
   "metadata": {},
   "outputs": [
    {
     "data": {
      "text/plain": [
       "1"
      ]
     },
     "execution_count": 23,
     "metadata": {},
     "output_type": "execute_result"
    }
   ],
   "source": [
    "dict1.get('a')"
   ]
  },
  {
   "cell_type": "code",
   "execution_count": 26,
   "id": "f828d6dd-2f41-46e0-8dc0-43ed31e89028",
   "metadata": {},
   "outputs": [],
   "source": [
    "mykeylist = list(dict1.keys())"
   ]
  },
  {
   "cell_type": "code",
   "execution_count": 27,
   "id": "6b29944e-26b8-4a09-97b6-1296613e791f",
   "metadata": {},
   "outputs": [
    {
     "data": {
      "text/plain": [
       "['a', 'b', 'c']"
      ]
     },
     "execution_count": 27,
     "metadata": {},
     "output_type": "execute_result"
    }
   ],
   "source": [
    "mykeylist"
   ]
  },
  {
   "cell_type": "code",
   "execution_count": 28,
   "id": "7c9167cc-9bb5-4ffa-9101-8e5ad98369ba",
   "metadata": {},
   "outputs": [],
   "source": [
    "sentence = \"The quick brown fox jumped over the lazy dogs.\"\n",
    "lowsent = sentence.lower()\n"
   ]
  },
  {
   "cell_type": "code",
   "execution_count": 30,
   "id": "2285be21-afb2-4922-8ac7-d48af05068bc",
   "metadata": {},
   "outputs": [
    {
     "data": {
      "text/plain": [
       "['the', 'quick', 'brown', 'fox', 'jumped', 'over', 'the', 'lazy', 'dogs.']"
      ]
     },
     "execution_count": 30,
     "metadata": {},
     "output_type": "execute_result"
    }
   ],
   "source": [
    "splitsent = lowsent.split(' ') \n",
    "splitsent"
   ]
  },
  {
   "cell_type": "code",
   "execution_count": 36,
   "id": "d946331f-7442-4d58-a291-888cf4cf4bc7",
   "metadata": {},
   "outputs": [],
   "source": [
    "splitsent[-1] = splitsent[-1].replace(\".\", \"\")"
   ]
  },
  {
   "cell_type": "code",
   "execution_count": 37,
   "id": "265daf2b-9d8a-4165-9dbf-6f7e78f309e6",
   "metadata": {},
   "outputs": [],
   "source": [
    "mysentset = set(splitsent)"
   ]
  },
  {
   "cell_type": "code",
   "execution_count": 38,
   "id": "b8e9f011-b03f-48c0-ac31-1a802c7a4ec3",
   "metadata": {},
   "outputs": [
    {
     "data": {
      "text/plain": [
       "{'brown', 'dogs', 'fox', 'jumped', 'lazy', 'over', 'quick', 'the'}"
      ]
     },
     "execution_count": 38,
     "metadata": {},
     "output_type": "execute_result"
    }
   ],
   "source": [
    "mysentset"
   ]
  },
  {
   "cell_type": "code",
   "execution_count": null,
   "id": "614ccf57-4ae3-408c-b83d-d60a05a8a96d",
   "metadata": {},
   "outputs": [],
   "source": []
  }
 ],
 "metadata": {
  "kernelspec": {
   "display_name": "Python 3 (ipykernel)",
   "language": "python",
   "name": "python3"
  },
  "language_info": {
   "codemirror_mode": {
    "name": "ipython",
    "version": 3
   },
   "file_extension": ".py",
   "mimetype": "text/x-python",
   "name": "python",
   "nbconvert_exporter": "python",
   "pygments_lexer": "ipython3",
   "version": "3.10.9"
  }
 },
 "nbformat": 4,
 "nbformat_minor": 5
}
