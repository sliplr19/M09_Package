{
 "cells": [
  {
   "cell_type": "code",
   "execution_count": 1,
   "id": "5fc77029-2344-432e-82fc-2969410fa04e",
   "metadata": {},
   "outputs": [],
   "source": [
    "import numpy as np"
   ]
  },
  {
   "cell_type": "code",
   "execution_count": 2,
   "id": "2abf9ab6-85f1-4f00-bf2c-8510967bd13f",
   "metadata": {},
   "outputs": [],
   "source": [
    "from time import time"
   ]
  },
  {
   "cell_type": "code",
   "execution_count": 3,
   "id": "d7cc58f1-86b3-4b91-9e69-4c38c6c17f6d",
   "metadata": {},
   "outputs": [],
   "source": [
    "from timeit import timeit"
   ]
  },
  {
   "cell_type": "code",
   "execution_count": 11,
   "id": "3a537579-bbda-42d8-a604-bb4c4d89f02c",
   "metadata": {},
   "outputs": [
    {
     "name": "stdout",
     "output_type": "stream",
     "text": [
      "5, 5, 5, 2, 5, 3, 5, 3, 4, 1\n"
     ]
    }
   ],
   "source": [
    "randos = np.random.randint(1,7,10)\n",
    "print(', '.join(randos.astype(str)))"
   ]
  },
  {
   "cell_type": "code",
   "execution_count": 15,
   "id": "7fba7cf9-87f8-438f-bb3d-a96316d18903",
   "metadata": {},
   "outputs": [
    {
     "name": "stdout",
     "output_type": "stream",
     "text": [
      "<class 'int'>\n",
      "<class 'numpy.ndarray'>\n"
     ]
    }
   ],
   "source": [
    "print(type(np.random.randint(22)))\n",
    "print(type(np.random.randint(1,21,5)))"
   ]
  },
  {
   "cell_type": "code",
   "execution_count": 16,
   "id": "72a69156-4e4b-4a7f-89bf-74886ef9f914",
   "metadata": {},
   "outputs": [],
   "source": [
    "from matplotlib.pyplot import hist"
   ]
  },
  {
   "cell_type": "code",
   "execution_count": 19,
   "id": "e27613ac-9140-48c8-ad33-6aaef8d62895",
   "metadata": {},
   "outputs": [
    {
     "data": {
      "image/png": "[encoded data removed]",
      "text/plain": [
       "<Figure size 640x480 with 1 Axes>"
      ]
     },
     "metadata": {},
     "output_type": "display_data"
    }
   ],
   "source": [
    "hist(randos);"
   ]
  },
  {
   "cell_type": "code",
   "execution_count": 28,
   "id": "3de0c2d1-ac88-4cd1-9ae9-4f69a891ce59",
   "metadata": {},
   "outputs": [],
   "source": [
    "data = np.random.randn(2, 3)"
   ]
  },
  {
   "cell_type": "code",
   "execution_count": 29,
   "id": "a516b01b-2821-4cc2-a133-a2a743ad90eb",
   "metadata": {},
   "outputs": [
    {
     "data": {
      "text/plain": [
       "array([[ 1.40890135,  1.1323558 ,  0.27623965],\n",
       "       [-0.6664749 , -0.97902448,  0.10395939]])"
      ]
     },
     "execution_count": 29,
     "metadata": {},
     "output_type": "execute_result"
    }
   ],
   "source": [
    "data"
   ]
  },
  {
   "cell_type": "code",
   "execution_count": 30,
   "id": "43155d68-6bbf-4ee1-b90d-cafe56fa28ee",
   "metadata": {},
   "outputs": [
    {
     "data": {
      "text/plain": [
       "array([[ 2.8178027 ,  2.2647116 ,  0.55247929],\n",
       "       [-1.3329498 , -1.95804896,  0.20791879]])"
      ]
     },
     "execution_count": 30,
     "metadata": {},
     "output_type": "execute_result"
    }
   ],
   "source": [
    "twodata = data * 2\n",
    "twodata"
   ]
  },
  {
   "cell_type": "code",
   "execution_count": 31,
   "id": "22018ba6-e542-429d-9745-875516181bc3",
   "metadata": {},
   "outputs": [],
   "source": [
    "double = data + data"
   ]
  },
  {
   "cell_type": "code",
   "execution_count": 32,
   "id": "6d858e8d-ce04-4a2a-bb04-f8be83dd2ebe",
   "metadata": {},
   "outputs": [
    {
     "data": {
      "text/plain": [
       "array([[ 2.8178027 ,  2.2647116 ,  0.55247929],\n",
       "       [-1.3329498 , -1.95804896,  0.20791879]])"
      ]
     },
     "execution_count": 32,
     "metadata": {},
     "output_type": "execute_result"
    }
   ],
   "source": [
    "double"
   ]
  },
  {
   "cell_type": "code",
   "execution_count": 33,
   "id": "62cebc45-efd9-4a59-a361-25cfeba4a613",
   "metadata": {},
   "outputs": [],
   "source": [
    "rep = 1/data"
   ]
  },
  {
   "cell_type": "code",
   "execution_count": 34,
   "id": "d90099b6-e5f1-460f-941e-7d637c083263",
   "metadata": {},
   "outputs": [
    {
     "data": {
      "text/plain": [
       "array([[ 0.7097729 ,  0.88311466,  3.62004519],\n",
       "       [-1.5004316 , -1.02142492,  9.61914044]])"
      ]
     },
     "execution_count": 34,
     "metadata": {},
     "output_type": "execute_result"
    }
   ],
   "source": [
    "rep"
   ]
  },
  {
   "cell_type": "code",
   "execution_count": 36,
   "id": "5a0a7d74-1973-451f-8419-f95460bee569",
   "metadata": {},
   "outputs": [
    {
     "data": {
      "text/plain": [
       "array([[1., 1., 1., 1.],\n",
       "       [1., 1., 1., 1.]])"
      ]
     },
     "execution_count": 36,
     "metadata": {},
     "output_type": "execute_result"
    }
   ],
   "source": [
    "foo1 = np.ones((2,4))\n",
    "foo1"
   ]
  },
  {
   "cell_type": "code",
   "execution_count": 37,
   "id": "8268e1d0-0c27-461a-989e-39f3aee8ffc0",
   "metadata": {},
   "outputs": [
    {
     "data": {
      "text/plain": [
       "array([[0., 0., 0., 0.],\n",
       "       [0., 0., 0., 0.]])"
      ]
     },
     "execution_count": 37,
     "metadata": {},
     "output_type": "execute_result"
    }
   ],
   "source": [
    "foo2 = np.zeros((2,4))\n",
    "foo2"
   ]
  },
  {
   "cell_type": "code",
   "execution_count": 39,
   "id": "6501ce66-323c-4b84-bd6b-3e73a0292c3f",
   "metadata": {},
   "outputs": [
    {
     "data": {
      "text/plain": [
       "array([[1., 0., 0., 0.],\n",
       "       [0., 1., 0., 0.],\n",
       "       [0., 0., 1., 0.],\n",
       "       [0., 0., 0., 1.]])"
      ]
     },
     "execution_count": 39,
     "metadata": {},
     "output_type": "execute_result"
    }
   ],
   "source": [
    "foo3 = np.identity(4)\n",
    "foo3"
   ]
  },
  {
   "cell_type": "code",
   "execution_count": 51,
   "id": "78154a86-f46a-4f8d-a191-a1e56145bc3d",
   "metadata": {},
   "outputs": [
    {
     "data": {
      "text/plain": [
       "array([[-0.94512903],\n",
       "       [ 0.74630689],\n",
       "       [ 0.03669714],\n",
       "       [ 0.1996524 ],\n",
       "       [-0.70217922]])"
      ]
     },
     "execution_count": 51,
     "metadata": {},
     "output_type": "execute_result"
    }
   ],
   "source": [
    "vec = np.random.randn(5, 1)\n",
    "vec"
   ]
  },
  {
   "cell_type": "code",
   "execution_count": 52,
   "id": "e741e52d-1bb4-485f-bf9c-b984c27fa9da",
   "metadata": {},
   "outputs": [
    {
     "data": {
      "text/plain": [
       "array([[0.74630689],\n",
       "       [0.03669714],\n",
       "       [0.1996524 ]])"
      ]
     },
     "execution_count": 52,
     "metadata": {},
     "output_type": "execute_result"
    }
   ],
   "source": [
    "subvec1 = vec[1:4]\n",
    "subvec1"
   ]
  },
  {
   "cell_type": "code",
   "execution_count": 53,
   "id": "6e36b783-ad19-4802-99cf-88155f942049",
   "metadata": {},
   "outputs": [
    {
     "data": {
      "text/plain": [
       "array([[0.74630689],\n",
       "       [0.03669714],\n",
       "       [0.1996524 ]])"
      ]
     },
     "execution_count": 53,
     "metadata": {},
     "output_type": "execute_result"
    }
   ],
   "source": [
    "subvec2 = vec[1:-1]\n",
    "subvec2\n"
   ]
  },
  {
   "cell_type": "code",
   "execution_count": 54,
   "id": "e33bec03-f5ad-4509-a8b9-5505b3e18ead",
   "metadata": {},
   "outputs": [
    {
     "data": {
      "text/plain": [
       "array([-0.94512903,  0.03669714, -0.70217922])"
      ]
     },
     "execution_count": 54,
     "metadata": {},
     "output_type": "execute_result"
    }
   ],
   "source": [
    "vec[vec < 0.15]"
   ]
  },
  {
   "cell_type": "code",
   "execution_count": 55,
   "id": "d1dab811-e694-48a8-9a7f-a2c16273f4f2",
   "metadata": {},
   "outputs": [],
   "source": [
    "newvec = vec.copy() \n",
    "newvec[newvec < 0] = 0"
   ]
  },
  {
   "cell_type": "code",
   "execution_count": 56,
   "id": "374777c4-b123-4fca-a7f7-d19dd1b338e9",
   "metadata": {},
   "outputs": [
    {
     "data": {
      "text/plain": [
       "array([[-0.94512903],\n",
       "       [ 0.74630689],\n",
       "       [ 0.03669714],\n",
       "       [ 0.1996524 ],\n",
       "       [-0.70217922]])"
      ]
     },
     "execution_count": 56,
     "metadata": {},
     "output_type": "execute_result"
    }
   ],
   "source": [
    "vec"
   ]
  },
  {
   "cell_type": "code",
   "execution_count": 57,
   "id": "d5b0995c-a3d2-4be6-88a7-dd411455896c",
   "metadata": {},
   "outputs": [
    {
     "data": {
      "text/plain": [
       "array([[0.        ],\n",
       "       [0.74630689],\n",
       "       [0.03669714],\n",
       "       [0.1996524 ],\n",
       "       [0.        ]])"
      ]
     },
     "execution_count": 57,
     "metadata": {},
     "output_type": "execute_result"
    }
   ],
   "source": [
    "newvec"
   ]
  },
  {
   "cell_type": "code",
   "execution_count": 71,
   "id": "cbd6e5f3-8e90-48a5-8187-47ad59506070",
   "metadata": {},
   "outputs": [],
   "source": [
    "def roll_dice(n, m = 6, res = False):\n",
    "    dice_roll = np.random.randint(1,m,n)\n",
    "    if res:\n",
    "        return sorted(dice_roll, reverse=res)\n",
    "    else:\n",
    "        return list(dice_roll)\n",
    "    "
   ]
  },
  {
   "cell_type": "code",
   "execution_count": 72,
   "id": "b27a3f73-2d26-416a-bc33-5b14b3698321",
   "metadata": {},
   "outputs": [
    {
     "data": {
      "text/plain": [
       "[5, 5, 5, 4, 4, 3, 3, 2, 2, 2]"
      ]
     },
     "execution_count": 72,
     "metadata": {},
     "output_type": "execute_result"
    }
   ],
   "source": [
    "roll_dice(10,6,True)"
   ]
  },
  {
   "cell_type": "code",
   "execution_count": 73,
   "id": "51ed5ee1-2fcc-48b7-84f0-7ef418361a5c",
   "metadata": {},
   "outputs": [
    {
     "data": {
      "text/plain": [
       "[4, 7, 7, 11, 8, 11, 1, 7, 5, 8]"
      ]
     },
     "execution_count": 73,
     "metadata": {},
     "output_type": "execute_result"
    }
   ],
   "source": [
    "roll_dice(10,12)"
   ]
  },
  {
   "cell_type": "code",
   "execution_count": 83,
   "id": "a30ab76d-68dd-4688-ab07-d881897c2719",
   "metadata": {},
   "outputs": [],
   "source": [
    "dat = roll_dice(8, 50)"
   ]
  },
  {
   "cell_type": "code",
   "execution_count": 76,
   "id": "8fc2e809-0646-4516-a20e-9951fff9f671",
   "metadata": {},
   "outputs": [],
   "source": [
    "from matplotlib.pyplot import plot"
   ]
  },
  {
   "cell_type": "code",
   "execution_count": 84,
   "id": "2863611d-819c-4ab3-8cf4-955a60a5be9b",
   "metadata": {},
   "outputs": [
    {
     "data": {
      "image/png": "[encoded data removed]",
      "text/plain": [
       "<Figure size 640x480 with 1 Axes>"
      ]
     },
     "metadata": {},
     "output_type": "display_data"
    }
   ],
   "source": [
    "plot(dat);"
   ]
  },
  {
   "cell_type": "code",
   "execution_count": null,
   "id": "076fc61d-9349-4ce0-8f62-d30f2f19a2e7",
   "metadata": {},
   "outputs": [],
   "source": []
  }
 ],
 "metadata": {
  "kernelspec": {
   "display_name": "Python 3 (ipykernel)",
   "language": "python",
   "name": "python3"
  },
  "language_info": {
   "codemirror_mode": {
    "name": "ipython",
    "version": 3
   },
   "file_extension": ".py",
   "mimetype": "text/x-python",
   "name": "python",
   "nbconvert_exporter": "python",
   "pygments_lexer": "ipython3",
   "version": "3.10.9"
  }
 },
 "nbformat": 4,
 "nbformat_minor": 5
}
