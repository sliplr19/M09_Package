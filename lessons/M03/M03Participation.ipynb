{
 "cells": [
  {
   "cell_type": "code",
   "execution_count": null,
   "id": "9f2359de-3060-4a6f-a702-3775f32d4486",
   "metadata": {},
   "outputs": [],
   "source": []
  },
  {
   "cell_type": "code",
   "execution_count": 1,
   "id": "f43fcf5d-369c-47b8-aef2-fb91fab89223",
   "metadata": {},
   "outputs": [
    {
     "name": "stdout",
     "output_type": "stream",
     "text": [
      "bucket4\n"
     ]
    }
   ],
   "source": [
    "val = 5\n",
    "if -10 < val < -5:\n",
    "    print('bucket1')\n",
    "elif -5 <= val < -2:\n",
    "    print('bucket2')\n",
    "elif val == -2:\n",
    "    print('bucket3')\n",
    "else:\n",
    "    print('bucket4')"
   ]
  },
  {
   "cell_type": "code",
   "execution_count": 6,
   "id": "2dbffc50-f6f8-40e2-bfd8-2bee927d78e1",
   "metadata": {},
   "outputs": [
    {
     "name": "stdout",
     "output_type": "stream",
     "text": [
      "-2\n",
      "8\n",
      "0\n",
      "5\n",
      "6\n",
      "-2\n",
      "8\n",
      "0\n",
      "5\n",
      "6\n"
     ]
    }
   ],
   "source": [
    "xx = [-2,8,0,5,6]\n",
    "max_val = max(xx)\n",
    "for x in xx:\n",
    "    if x < max_val:\n",
    "        print(x)\n",
    "    else:\n",
    "        print(max_val)\n",
    "        \n",
    "for x in xx:\n",
    "    print(x) if x < max_val else print(max_val)\n",
    "\n",
    "    \n",
    "        "
   ]
  },
  {
   "cell_type": "code",
   "execution_count": 4,
   "id": "bdbd9339-aec6-455f-815b-f74325118611",
   "metadata": {},
   "outputs": [
    {
     "name": "stdout",
     "output_type": "stream",
     "text": [
      "0\n",
      "10\n",
      "20\n",
      "30\n",
      "40\n",
      "50\n",
      "60\n",
      "70\n",
      "80\n",
      "90\n"
     ]
    }
   ],
   "source": [
    "it = 0\n",
    "max_iter = 100\n",
    "while(it < max_iter):\n",
    "    if(it == 0 or it%10 == 0):\n",
    "        print(it)\n",
    "    it += 1\n",
    "    "
   ]
  },
  {
   "cell_type": "code",
   "execution_count": 21,
   "id": "83431b25-1569-41cf-b018-109a1c776ca7",
   "metadata": {},
   "outputs": [
    {
     "name": "stdout",
     "output_type": "stream",
     "text": [
      "lindley\n",
      "joey\n",
      "licorice\n",
      "minnie\n"
     ]
    }
   ],
   "source": [
    "mylist = [\"Lindley\", \"Joey\", \"Licorice\", \"Minnie\"]\n",
    "myclean = [print(wd.lower()) for wd in mylist]\n"
   ]
  },
  {
   "cell_type": "code",
   "execution_count": 22,
   "id": "b028a9b4-a0ee-4ea0-b030-c270e3b2154a",
   "metadata": {},
   "outputs": [
    {
     "name": "stdout",
     "output_type": "stream",
     "text": [
      "None\n",
      "None\n",
      "None\n",
      "None\n"
     ]
    }
   ],
   "source": [
    "iterclean = iter(myclean)\n",
    "print(next(iterclean))\n",
    "print(next(iterclean))\n",
    "print(next(iterclean))\n",
    "print(next(iterclean))"
   ]
  },
  {
   "cell_type": "code",
   "execution_count": 23,
   "id": "8ebd994a-915a-4cd0-bfc2-c46cc58bd815",
   "metadata": {},
   "outputs": [
    {
     "ename": "TypeError",
     "evalue": "object of type 'list_iterator' has no len()",
     "output_type": "error",
     "traceback": [
      "\u001b[1;31m---------------------------------------------------------------------------\u001b[0m",
      "\u001b[1;31mTypeError\u001b[0m                                 Traceback (most recent call last)",
      "Cell \u001b[1;32mIn[23], line 2\u001b[0m\n\u001b[0;32m      1\u001b[0m names \u001b[38;5;241m=\u001b[39m \u001b[38;5;28miter\u001b[39m(myclean)\n\u001b[1;32m----> 2\u001b[0m _\u001b[38;5;241m=\u001b[39m [\u001b[38;5;28mprint\u001b[39m(\u001b[38;5;28mnext\u001b[39m(names)) \u001b[38;5;28;01mfor\u001b[39;00m i \u001b[38;5;129;01min\u001b[39;00m \u001b[38;5;28mrange\u001b[39m(\u001b[38;5;28;43mlen\u001b[39;49m\u001b[43m(\u001b[49m\u001b[43mnames\u001b[49m\u001b[43m)\u001b[49m)]\n",
      "\u001b[1;31mTypeError\u001b[0m: object of type 'list_iterator' has no len()"
     ]
    }
   ],
   "source": [
    "names = iter(myclean)\n",
    "_= [print(next(names)) for i in range(len(names))]"
   ]
  },
  {
   "cell_type": "code",
   "execution_count": 33,
   "id": "92702c02-619e-4fa3-9ce7-1c9593d294d3",
   "metadata": {},
   "outputs": [
    {
     "name": "stdout",
     "output_type": "stream",
     "text": [
      "Bartlett 60103\n",
      "Charlottesville 22903\n"
     ]
    }
   ],
   "source": [
    "mydict = {\"Bartlett\": 60103, \"Charlottesville\": 22903}\n",
    "for k, v in mydict.items():\n",
    "    print(k,v)"
   ]
  },
  {
   "cell_type": "code",
   "execution_count": 28,
   "id": "c3006347-092c-4960-876e-7c1f7b381e70",
   "metadata": {},
   "outputs": [
    {
     "name": "stdout",
     "output_type": "stream",
     "text": [
      "Bartlett 60103\n",
      "Charlottesville 22903\n"
     ]
    }
   ],
   "source": [
    "_ = [print(cit,zi) for cit, zi in mydict.items()]"
   ]
  },
  {
   "cell_type": "code",
   "execution_count": 34,
   "id": "5211c788-4fbb-448f-8650-3d1e0edaca87",
   "metadata": {},
   "outputs": [
    {
     "ename": "TypeError",
     "evalue": "can only join an iterable",
     "output_type": "error",
     "traceback": [
      "\u001b[1;31m---------------------------------------------------------------------------\u001b[0m",
      "\u001b[1;31mTypeError\u001b[0m                                 Traceback (most recent call last)",
      "Cell \u001b[1;32mIn[34], line 2\u001b[0m\n\u001b[0;32m      1\u001b[0m \u001b[38;5;28;01mfor\u001b[39;00m k \u001b[38;5;129;01min\u001b[39;00m mydict\u001b[38;5;241m.\u001b[39mkeys():\n\u001b[1;32m----> 2\u001b[0m     \u001b[38;5;28mprint\u001b[39m(\u001b[38;5;124mf\u001b[39m\u001b[38;5;124m\"\u001b[39m\u001b[38;5;132;01m{\u001b[39;00mk\u001b[38;5;132;01m}\u001b[39;00m\u001b[38;5;124m:\u001b[39m\u001b[38;5;130;01m\\t\u001b[39;00m\u001b[38;5;132;01m{\u001b[39;00m\u001b[38;5;124m'\u001b[39m\u001b[38;5;124m, \u001b[39m\u001b[38;5;124m'\u001b[39m\u001b[38;5;241m.\u001b[39mjoin(mydict[k])\u001b[38;5;132;01m}\u001b[39;00m\u001b[38;5;124m\"\u001b[39m)\n",
      "\u001b[1;31mTypeError\u001b[0m: can only join an iterable"
     ]
    }
   ],
   "source": [
    "for k in mydict.keys():\n",
    "    print(f\"{k}:\\t{', '.join(mydict[k])}\")"
   ]
  },
  {
   "cell_type": "code",
   "execution_count": 39,
   "id": "e2f657cd-ecdf-46ed-bdc9-27402163abcb",
   "metadata": {},
   "outputs": [
    {
     "name": "stdout",
     "output_type": "stream",
     "text": [
      "1\n",
      "8\n",
      "27\n",
      "64\n",
      "125\n",
      "216\n",
      "343\n",
      "512\n",
      "729\n",
      "1000\n"
     ]
    }
   ],
   "source": [
    "mylist = [1,2,3,4,5,6,7,8,9,10]\n",
    "_= [print(i**3) for i in mylist]"
   ]
  },
  {
   "cell_type": "code",
   "execution_count": 44,
   "id": "95afdaf2-c1ad-4a65-81a1-c836e837737d",
   "metadata": {},
   "outputs": [
    {
     "data": {
      "text/plain": [
       "['1', '2', '3', '219']"
      ]
     },
     "execution_count": 44,
     "metadata": {},
     "output_type": "execute_result"
    }
   ],
   "source": [
    "mylist = ['string', '1', 'dog', '2', '3', '219', 'cat']\n",
    "digits=  [wd for wd in mylist if wd.isdigit() == True]\n",
    "digits"
   ]
  },
  {
   "cell_type": "code",
   "execution_count": null,
   "id": "74523428-15b8-4885-8ee6-92356e865585",
   "metadata": {},
   "outputs": [],
   "source": []
  }
 ],
 "metadata": {
  "kernelspec": {
   "display_name": "Python 3 (ipykernel)",
   "language": "python",
   "name": "python3"
  },
  "language_info": {
   "codemirror_mode": {
    "name": "ipython",
    "version": 3
   },
   "file_extension": ".py",
   "mimetype": "text/x-python",
   "name": "python",
   "nbconvert_exporter": "python",
   "pygments_lexer": "ipython3",
   "version": "3.10.9"
  }
 },
 "nbformat": 4,
 "nbformat_minor": 5
}
